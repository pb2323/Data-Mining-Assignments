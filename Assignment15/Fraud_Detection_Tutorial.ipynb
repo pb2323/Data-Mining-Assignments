{
  "nbformat": 4,
  "nbformat_minor": 0,
  "metadata": {
    "colab": {
      "provenance": [],
      "toc_visible": true
    },
    "kernelspec": {
      "name": "python3",
      "display_name": "Python 3"
    },
    "language_info": {
      "name": "python"
    }
  },
  "cells": [
    {
      "cell_type": "code",
      "metadata": {
        "id": "S51NR-oPVsjg",
        "colab": {
          "base_uri": "https://localhost:8080/"
        },
        "outputId": "f57f3327-c954-4af6-81e6-0be7b4f638fe"
      },
      "source": [
        "# Restart the runtime after executing this cell!\n",
        "\n",
        "!pip install feast['gcp']\n",
        "!feast version"
      ],
      "execution_count": null,
      "outputs": [
        {
          "output_type": "stream",
          "text": [
            "Requirement already satisfied: feast[gcp] in /usr/local/lib/python3.7/dist-packages (0.11.0)\n",
            "Requirement already satisfied: pandavro==1.5.* in /usr/local/lib/python3.7/dist-packages (from feast[gcp]) (1.5.2)\n",
            "Requirement already satisfied: protobuf>=3.10 in /usr/local/lib/python3.7/dist-packages (from feast[gcp]) (3.17.3)\n",
            "Requirement already satisfied: googleapis-common-protos==1.52.* in /usr/local/lib/python3.7/dist-packages (from feast[gcp]) (1.52.0)\n",
            "Requirement already satisfied: grpcio>=1.34.0 in /usr/local/lib/python3.7/dist-packages (from feast[gcp]) (1.39.0)\n",
            "Requirement already satisfied: pydantic>=1.0.0 in /usr/local/lib/python3.7/dist-packages (from feast[gcp]) (1.8.2)\n",
            "Requirement already satisfied: mmh3 in /usr/local/lib/python3.7/dist-packages (from feast[gcp]) (3.0.0)\n",
            "Requirement already satisfied: pyarrow>=2.0.0 in /usr/local/lib/python3.7/dist-packages (from feast[gcp]) (3.0.0)\n",
            "Requirement already satisfied: tqdm==4.* in /usr/local/lib/python3.7/dist-packages (from feast[gcp]) (4.41.1)\n",
            "Requirement already satisfied: tenacity>=7.* in /usr/local/lib/python3.7/dist-packages (from feast[gcp]) (8.0.1)\n",
            "Requirement already satisfied: colorama>=0.3.9 in /usr/local/lib/python3.7/dist-packages (from feast[gcp]) (0.4.4)\n",
            "Requirement already satisfied: toml==0.10.* in /usr/local/lib/python3.7/dist-packages (from feast[gcp]) (0.10.2)\n",
            "Requirement already satisfied: tabulate==0.8.* in /usr/local/lib/python3.7/dist-packages (from feast[gcp]) (0.8.9)\n",
            "Requirement already satisfied: pandas>=1.0.0 in /usr/local/lib/python3.7/dist-packages (from feast[gcp]) (1.1.5)\n",
            "Requirement already satisfied: Click==7.* in /usr/local/lib/python3.7/dist-packages (from feast[gcp]) (7.1.2)\n",
            "Requirement already satisfied: jsonschema in /usr/local/lib/python3.7/dist-packages (from feast[gcp]) (2.6.0)\n",
            "Requirement already satisfied: fastavro>=1.1.0 in /usr/local/lib/python3.7/dist-packages (from feast[gcp]) (1.4.4)\n",
            "Requirement already satisfied: Jinja2>=2.0.0 in /usr/local/lib/python3.7/dist-packages (from feast[gcp]) (2.11.3)\n",
            "Requirement already satisfied: google-api-core>=1.23.0 in /usr/local/lib/python3.7/dist-packages (from feast[gcp]) (1.31.0)\n",
            "Requirement already satisfied: PyYAML==5.3.* in /usr/local/lib/python3.7/dist-packages (from feast[gcp]) (5.3.1)\n",
            "Requirement already satisfied: google-cloud-bigquery>=2.0.* in /usr/local/lib/python3.7/dist-packages (from feast[gcp]) (2.22.1)\n",
            "Requirement already satisfied: google-cloud-datastore>=2.1.* in /usr/local/lib/python3.7/dist-packages (from feast[gcp]) (2.1.5)\n",
            "Requirement already satisfied: google-cloud-core==1.4.* in /usr/local/lib/python3.7/dist-packages (from feast[gcp]) (1.4.4)\n",
            "Requirement already satisfied: google-cloud-bigquery-storage>=2.0.0 in /usr/local/lib/python3.7/dist-packages (from feast[gcp]) (2.6.1)\n",
            "Requirement already satisfied: google-cloud-storage>=1.20.* in /usr/local/lib/python3.7/dist-packages (from feast[gcp]) (1.40.0)\n",
            "Requirement already satisfied: six>=1.12.0 in /usr/local/lib/python3.7/dist-packages (from google-cloud-core==1.4.*->feast[gcp]) (1.15.0)\n",
            "Requirement already satisfied: numpy>=1.7.0 in /usr/local/lib/python3.7/dist-packages (from pandavro==1.5.*->feast[gcp]) (1.19.5)\n",
            "Requirement already satisfied: setuptools>=40.3.0 in /usr/local/lib/python3.7/dist-packages (from google-api-core>=1.23.0->feast[gcp]) (57.2.0)\n",
            "Requirement already satisfied: requests<3.0.0dev,>=2.18.0 in /usr/local/lib/python3.7/dist-packages (from google-api-core>=1.23.0->feast[gcp]) (2.23.0)\n",
            "Requirement already satisfied: packaging>=14.3 in /usr/local/lib/python3.7/dist-packages (from google-api-core>=1.23.0->feast[gcp]) (21.0)\n",
            "Requirement already satisfied: pytz in /usr/local/lib/python3.7/dist-packages (from google-api-core>=1.23.0->feast[gcp]) (2018.9)\n",
            "Requirement already satisfied: google-auth<2.0dev,>=1.25.0 in /usr/local/lib/python3.7/dist-packages (from google-api-core>=1.23.0->feast[gcp]) (1.32.1)\n",
            "Requirement already satisfied: cachetools<5.0,>=2.0.0 in /usr/local/lib/python3.7/dist-packages (from google-auth<2.0dev,>=1.25.0->google-api-core>=1.23.0->feast[gcp]) (4.2.2)\n",
            "Requirement already satisfied: pyasn1-modules>=0.2.1 in /usr/local/lib/python3.7/dist-packages (from google-auth<2.0dev,>=1.25.0->google-api-core>=1.23.0->feast[gcp]) (0.2.8)\n",
            "Requirement already satisfied: rsa<5,>=3.1.4 in /usr/local/lib/python3.7/dist-packages (from google-auth<2.0dev,>=1.25.0->google-api-core>=1.23.0->feast[gcp]) (4.7.2)\n",
            "Requirement already satisfied: proto-plus>=1.10.0 in /usr/local/lib/python3.7/dist-packages (from google-cloud-bigquery>=2.0.*->feast[gcp]) (1.19.0)\n",
            "Requirement already satisfied: google-resumable-media<3.0dev,>=0.6.0 in /usr/local/lib/python3.7/dist-packages (from google-cloud-bigquery>=2.0.*->feast[gcp]) (1.3.1)\n",
            "Requirement already satisfied: libcst>=0.2.5 in /usr/local/lib/python3.7/dist-packages (from google-cloud-bigquery-storage>=2.0.0->feast[gcp]) (0.3.19)\n",
            "Requirement already satisfied: google-crc32c<2.0dev,>=1.0 in /usr/local/lib/python3.7/dist-packages (from google-resumable-media<3.0dev,>=0.6.0->google-cloud-bigquery>=2.0.*->feast[gcp]) (1.1.2)\n",
            "Requirement already satisfied: cffi>=1.0.0 in /usr/local/lib/python3.7/dist-packages (from google-crc32c<2.0dev,>=1.0->google-resumable-media<3.0dev,>=0.6.0->google-cloud-bigquery>=2.0.*->feast[gcp]) (1.14.6)\n",
            "Requirement already satisfied: pycparser in /usr/local/lib/python3.7/dist-packages (from cffi>=1.0.0->google-crc32c<2.0dev,>=1.0->google-resumable-media<3.0dev,>=0.6.0->google-cloud-bigquery>=2.0.*->feast[gcp]) (2.20)\n",
            "Requirement already satisfied: MarkupSafe>=0.23 in /usr/local/lib/python3.7/dist-packages (from Jinja2>=2.0.0->feast[gcp]) (2.0.1)\n",
            "Requirement already satisfied: typing-inspect>=0.4.0 in /usr/local/lib/python3.7/dist-packages (from libcst>=0.2.5->google-cloud-bigquery-storage>=2.0.0->feast[gcp]) (0.7.1)\n",
            "Requirement already satisfied: typing-extensions>=3.7.4.2 in /usr/local/lib/python3.7/dist-packages (from libcst>=0.2.5->google-cloud-bigquery-storage>=2.0.0->feast[gcp]) (3.7.4.3)\n",
            "Requirement already satisfied: pyparsing>=2.0.2 in /usr/local/lib/python3.7/dist-packages (from packaging>=14.3->google-api-core>=1.23.0->feast[gcp]) (2.4.7)\n",
            "Requirement already satisfied: python-dateutil>=2.7.3 in /usr/local/lib/python3.7/dist-packages (from pandas>=1.0.0->feast[gcp]) (2.8.1)\n",
            "Requirement already satisfied: pyasn1<0.5.0,>=0.4.6 in /usr/local/lib/python3.7/dist-packages (from pyasn1-modules>=0.2.1->google-auth<2.0dev,>=1.25.0->google-api-core>=1.23.0->feast[gcp]) (0.4.8)\n",
            "Requirement already satisfied: idna<3,>=2.5 in /usr/local/lib/python3.7/dist-packages (from requests<3.0.0dev,>=2.18.0->google-api-core>=1.23.0->feast[gcp]) (2.10)\n",
            "Requirement already satisfied: certifi>=2017.4.17 in /usr/local/lib/python3.7/dist-packages (from requests<3.0.0dev,>=2.18.0->google-api-core>=1.23.0->feast[gcp]) (2021.5.30)\n",
            "Requirement already satisfied: chardet<4,>=3.0.2 in /usr/local/lib/python3.7/dist-packages (from requests<3.0.0dev,>=2.18.0->google-api-core>=1.23.0->feast[gcp]) (3.0.4)\n",
            "Requirement already satisfied: urllib3!=1.25.0,!=1.25.1,<1.26,>=1.21.1 in /usr/local/lib/python3.7/dist-packages (from requests<3.0.0dev,>=2.18.0->google-api-core>=1.23.0->feast[gcp]) (1.24.3)\n",
            "Requirement already satisfied: mypy-extensions>=0.3.0 in /usr/local/lib/python3.7/dist-packages (from typing-inspect>=0.4.0->libcst>=0.2.5->google-cloud-bigquery-storage>=2.0.0->feast[gcp]) (0.4.3)\n",
            "Feast SDK Version: \"feast 0.11.0\"\n"
          ],
          "name": "stdout"
        }
      ]
    },
    {
      "cell_type": "markdown",
      "metadata": {
        "id": "aMTHUlCSYsUy"
      },
      "source": [
        "## Create a project\n",
        "\n",
        "1. [Create a new project](https://console.cloud.google.com/cloud-resource-manager)\n",
        "2. [Make sure that billing is enabled for your project.](https://cloud.google.com/billing/docs/how-to/modify-project)\n",
        "3. Enable the following APIs:\n",
        "    1. [Cloud Firestore](https://console.cloud.google.com/firestore/welcome) (be sure to choose **Datastore Mode**)\n",
        "    2. [AI Platform Models](https://console.cloud.google.com/ai-platform/ml-enable-api/models)\n",
        "    3. [Cloud Scheduler](https://console.cloud.google.com/apis/library/cloudscheduler.googleapis.com?q=cloud&id=1d54d828-14ed-4976-959b-3b18cca9e859)\n",
        "    4. [Cloud Build](https://console.cloud.google.com/apis/library/cloudbuild.googleapis.com?q=cloud&id=9472915e-c82c-4bef-8a6a-34c81e5aebcc)\n",
        "    5. [Cloud Functions](https://console.cloud.google.com/apis/library/cloudfunctions.googleapis.com?q=cloud%20functions&id=2174da14-0e34-49ed-9267-e258674e95da)"
      ]
    },
    {
      "cell_type": "markdown",
      "metadata": {
        "id": "Kl0Z88dNWB1L"
      },
      "source": [
        "## Authenticate into GCP\n",
        "\n",
        "Feast spins up infrastructure on GCP using the credentials in our environment. Run the following cell to log into GCP:"
      ]
    },
    {
      "cell_type": "code",
      "metadata": {
        "id": "1KKIKjUYWJtl"
      },
      "source": [
        "from google.colab import auth\n",
        "auth.authenticate_user()"
      ],
      "execution_count": null,
      "outputs": []
    },
    {
      "cell_type": "markdown",
      "metadata": {
        "id": "6eKs1547MiFA"
      },
      "source": [
        "## Set configurations\n",
        "\n",
        "Set the following configuration, which we'll be using throughout the tutorial:\n",
        "\n",
        "- PROJECT_ID: Your project.\n",
        "- BUCKET_NAME: The name of a bucket which will be used to store the feature store registry and model artifacts.\n",
        "- BIGQUERY_DATASET_NAME: The name of a dataset which will be used to create tables containing features.\n",
        "- AI_PLATFORM_MODEL_NAME: The name of a model name which will be created in AI Platform."
      ]
    },
    {
      "cell_type": "code",
      "metadata": {
        "id": "NKPT2GJ_Jb2h",
        "colab": {
          "base_uri": "https://localhost:8080/"
        },
        "outputId": "37b78902-83db-4e7d-ea9c-69eb60b5caa2"
      },
      "source": [
        "PROJECT_ID= \"YOUR_PROJECT_ID\" #@param {type:\"string\"}\n",
        "BUCKET_NAME= \"YOUR_BUCKET_NAME\" #@param {type:\"string\"} custom\n",
        "BIGQUERY_DATASET_NAME=\"YOUR_TUTORIAL_NAME\" #@param {type:\"string\"} custom\n",
        "AI_PLATFORM_MODEL_NAME=\"feast_fraud_<YOUR_NAME>_model\" #@param {type:\"string\"\n",
        "\n",
        "! gcloud config set project $PROJECT_ID\n",
        "%env GOOGLE_CLOUD_PROJECT=$PROJECT_ID\n",
        "!echo project_id = $PROJECT_ID > ~/.bigqueryrc"
      ],
      "execution_count": null,
      "outputs": [
        {
          "output_type": "stream",
          "text": [
            "Updated property [core/project].\n",
            "env: GOOGLE_CLOUD_PROJECT=kf-feast\n"
          ],
          "name": "stdout"
        }
      ]
    },
    {
      "cell_type": "markdown",
      "metadata": {
        "id": "yxpj6AHLUdJR"
      },
      "source": [
        "## Create a bucket\n",
        "**Only if your bucket doesn't already exist**: Run the following cell to create your Cloud Storage bucket."
      ]
    },
    {
      "cell_type": "code",
      "metadata": {
        "id": "z1RxnJ-AUgOl",
        "colab": {
          "base_uri": "https://localhost:8080/"
        },
        "outputId": "1b798213-8734-452c-cd8a-9ce8cce90e0b"
      },
      "source": [
        "# Only run if your bucket doesn't already exist!\n",
        "! gsutil mb gs://$BUCKET_NAME"
      ],
      "execution_count": null,
      "outputs": [
        {
          "output_type": "stream",
          "text": [
            "Creating gs://jsd_fraud_tutorial_run/...\n"
          ],
          "name": "stdout"
        }
      ]
    },
    {
      "cell_type": "markdown",
      "metadata": {
        "id": "hrjZkcFmZlSM"
      },
      "source": [
        "## Create a BigQuery dataset\n",
        "**Only if your dataset doesn't already exist**: Run the following cell to create your BigQuery dataset."
      ]
    },
    {
      "cell_type": "code",
      "metadata": {
        "id": "_73sXuvjZzoz",
        "colab": {
          "base_uri": "https://localhost:8080/"
        },
        "outputId": "e09670d1-7c9b-48e4-a640-fa73c34dc64e"
      },
      "source": [
        "! bq mk $BIGQUERY_DATASET_NAME"
      ],
      "execution_count": null,
      "outputs": [
        {
          "output_type": "stream",
          "text": [
            "Dataset 'kf-feast:feast_fraud_tutorial' successfully created.\n"
          ],
          "name": "stdout"
        }
      ]
    },
    {
      "cell_type": "markdown",
      "metadata": {
        "id": "3W_OsJMWkipk"
      },
      "source": [
        "## Initialize the feature repository"
      ]
    },
    {
      "cell_type": "markdown",
      "metadata": {
        "id": "Sk0fdKESD3j-"
      },
      "source": [
        "In Feast, you define your features using configuration stored in a repository. To start, initialize a feature repository."
      ]
    },
    {
      "cell_type": "code",
      "metadata": {
        "colab": {
          "base_uri": "https://localhost:8080/"
        },
        "id": "ASAv4kB3kkz_",
        "outputId": "092fef4b-b11c-4c5c-b8af-71044e7bf897"
      },
      "source": [
        "! feast init fraud_tutorial -t gcp\n",
        "%cd fraud_tutorial/\n",
        "! ls"
      ],
      "execution_count": null,
      "outputs": [
        {
          "output_type": "stream",
          "text": [
            "\n",
            "Creating a new Feast repository in \u001b[1m\u001b[32m/content/fraud_tutorial\u001b[0m.\n",
            "\n",
            "/content/fraud_tutorial\n",
            "driver_repo.py\tfeature_store.yaml  test.py\n"
          ],
          "name": "stdout"
        }
      ]
    },
    {
      "cell_type": "markdown",
      "metadata": {
        "id": "XDfgOvshswm5"
      },
      "source": [
        "Next, we'll edit the `feature_store.yaml` file to reference our bucket. Note that the `project` field in this file refers to the Feast concept of a project, not a GCP project."
      ]
    },
    {
      "cell_type": "code",
      "metadata": {
        "id": "mK727g_Ik6zs",
        "colab": {
          "base_uri": "https://localhost:8080/"
        },
        "outputId": "00da53ff-267c-4ba0-fe68-129e01fe6664"
      },
      "source": [
        "feature_store = \\\n",
        "f\"\"\"project: fraud_tutorial\n",
        "registry: gs://{BUCKET_NAME}/registry.db\n",
        "provider: gcp\"\"\"\n",
        "\n",
        "with open('feature_store.yaml', \"w\") as feature_store_file:\n",
        "    feature_store_file.write(feature_store)\n",
        "\n",
        "# Print our feature_store.yaml\n",
        "! cat feature_store.yaml"
      ],
      "execution_count": null,
      "outputs": [
        {
          "output_type": "stream",
          "text": [
            "project: fraud_tutorial\n",
            "registry: gs://jsd_fraud_tutorial_run/registry.db\n",
            "provider: gcp"
          ],
          "name": "stdout"
        }
      ]
    },
    {
      "cell_type": "markdown",
      "metadata": {
        "id": "Q0dMrw4rESL7"
      },
      "source": [
        "Then, we can apply our feature repository:"
      ]
    },
    {
      "cell_type": "code",
      "metadata": {
        "colab": {
          "base_uri": "https://localhost:8080/"
        },
        "id": "f6QD4-lVrbdt",
        "outputId": "5bbad193-6ad4-49be-dc47-dd348d1eb222"
      },
      "source": [
        "! feast apply"
      ],
      "execution_count": null,
      "outputs": [
        {
          "output_type": "stream",
          "text": [
            "Registered entity \u001b[1m\u001b[32mdriver_id\u001b[0m\n",
            "Registered feature view \u001b[1m\u001b[32mdriver_hourly_stats\u001b[0m\n",
            "Deploying infrastructure for \u001b[1m\u001b[32mdriver_hourly_stats\u001b[0m\n"
          ],
          "name": "stdout"
        }
      ]
    },
    {
      "cell_type": "markdown",
      "metadata": {
        "id": "ewiAq45-Efp0"
      },
      "source": [
        "# Creating features\n",
        "\n",
        "Next, let's make a new feature and register it to the store.\n",
        "\n",
        "This involves two steps.\n",
        "\n",
        "- **Using Bigquery**, we generate new feature values using SQL. Feast is used not to generate features, which is done in Python/SQL.\n",
        "- **Using Feast**, we register our new features in Feast by creating a FeatureView:\n",
        "\n"
      ]
    },
    {
      "cell_type": "markdown",
      "metadata": {
        "id": "8Ch1UyV1wfER"
      },
      "source": [
        "![Feast landing page, blog post - Tutorial - Generate features.png](data:image/png;base64,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)"
      ]
    },
    {
      "cell_type": "markdown",
      "metadata": {
        "id": "0V0qK1knwjg-"
      },
      "source": [
        "## Preview the raw data"
      ]
    },
    {
      "cell_type": "code",
      "metadata": {
        "colab": {
          "base_uri": "https://localhost:8080/",
          "height": 458
        },
        "id": "p90F3kxgv9UO",
        "outputId": "dc44d842-b937-4210-dcbe-8904fec3bbca"
      },
      "source": [
        "%%bigquery\n",
        "\n",
        "select * from feast-oss.fraud_tutorial.transactions limit 1000"
      ],
      "execution_count": null,
      "outputs": [
        {
          "output_type": "stream",
          "text": [
            "Query complete after 0.02s: 100%|██████████| 1/1 [00:00<00:00, 89.66query/s] \n",
            "Downloading: 100%|██████████| 1000/1000 [00:02<00:00, 334.24rows/s]\n"
          ],
          "name": "stderr"
        },
        {
          "output_type": "execute_result",
          "data": {
            "text/html": [
              "<div>\n",
              "<style scoped>\n",
              "    .dataframe tbody tr th:only-of-type {\n",
              "        vertical-align: middle;\n",
              "    }\n",
              "\n",
              "    .dataframe tbody tr th {\n",
              "        vertical-align: top;\n",
              "    }\n",
              "\n",
              "    .dataframe thead th {\n",
              "        text-align: right;\n",
              "    }\n",
              "</style>\n",
              "<table border=\"1\" class=\"dataframe\">\n",
              "  <thead>\n",
              "    <tr style=\"text-align: right;\">\n",
              "      <th></th>\n",
              "      <th>src_account</th>\n",
              "      <th>amount</th>\n",
              "      <th>dest_account</th>\n",
              "      <th>is_fraud</th>\n",
              "      <th>timestamp</th>\n",
              "    </tr>\n",
              "  </thead>\n",
              "  <tbody>\n",
              "    <tr>\n",
              "      <th>0</th>\n",
              "      <td>0001mg</td>\n",
              "      <td>3012.44</td>\n",
              "      <td>ydnwlr</td>\n",
              "      <td>0</td>\n",
              "      <td>2021-07-24 15:39:36.606567+00:00</td>\n",
              "    </tr>\n",
              "    <tr>\n",
              "      <th>1</th>\n",
              "      <td>0001mg</td>\n",
              "      <td>4431.82</td>\n",
              "      <td>oijv7z</td>\n",
              "      <td>0</td>\n",
              "      <td>2021-07-21 14:34:33.067750+00:00</td>\n",
              "    </tr>\n",
              "    <tr>\n",
              "      <th>2</th>\n",
              "      <td>0001mg</td>\n",
              "      <td>3037.60</td>\n",
              "      <td>a6mrvu</td>\n",
              "      <td>0</td>\n",
              "      <td>2021-07-19 23:38:33.405995+00:00</td>\n",
              "    </tr>\n",
              "    <tr>\n",
              "      <th>3</th>\n",
              "      <td>0001mg</td>\n",
              "      <td>6322.63</td>\n",
              "      <td>bmihen</td>\n",
              "      <td>0</td>\n",
              "      <td>2021-07-19 16:33:46.896750+00:00</td>\n",
              "    </tr>\n",
              "    <tr>\n",
              "      <th>4</th>\n",
              "      <td>0001mg</td>\n",
              "      <td>9981.82</td>\n",
              "      <td>tk53lu</td>\n",
              "      <td>0</td>\n",
              "      <td>2021-07-17 02:19:05.672327+00:00</td>\n",
              "    </tr>\n",
              "    <tr>\n",
              "      <th>...</th>\n",
              "      <td>...</td>\n",
              "      <td>...</td>\n",
              "      <td>...</td>\n",
              "      <td>...</td>\n",
              "      <td>...</td>\n",
              "    </tr>\n",
              "    <tr>\n",
              "      <th>995</th>\n",
              "      <td>0e8q8g</td>\n",
              "      <td>8430.40</td>\n",
              "      <td>zkalwn</td>\n",
              "      <td>0</td>\n",
              "      <td>2021-07-11 10:15:51.044902+00:00</td>\n",
              "    </tr>\n",
              "    <tr>\n",
              "      <th>996</th>\n",
              "      <td>0efs3l</td>\n",
              "      <td>2089.27</td>\n",
              "      <td>1egwlq</td>\n",
              "      <td>0</td>\n",
              "      <td>2021-07-24 10:57:31.845153+00:00</td>\n",
              "    </tr>\n",
              "    <tr>\n",
              "      <th>997</th>\n",
              "      <td>0efs3l</td>\n",
              "      <td>8805.19</td>\n",
              "      <td>xxuqat</td>\n",
              "      <td>0</td>\n",
              "      <td>2021-07-24 07:42:52.053850+00:00</td>\n",
              "    </tr>\n",
              "    <tr>\n",
              "      <th>998</th>\n",
              "      <td>0efs3l</td>\n",
              "      <td>1590.20</td>\n",
              "      <td>brg2wu</td>\n",
              "      <td>0</td>\n",
              "      <td>2021-07-23 11:24:19.137748+00:00</td>\n",
              "    </tr>\n",
              "    <tr>\n",
              "      <th>999</th>\n",
              "      <td>0efs3l</td>\n",
              "      <td>6475.87</td>\n",
              "      <td>7poh6p</td>\n",
              "      <td>0</td>\n",
              "      <td>2021-07-23 10:14:55.116604+00:00</td>\n",
              "    </tr>\n",
              "  </tbody>\n",
              "</table>\n",
              "<p>1000 rows × 5 columns</p>\n",
              "</div>"
            ],
            "text/plain": [
              "    src_account   amount  ... is_fraud                        timestamp\n",
              "0        0001mg  3012.44  ...        0 2021-07-24 15:39:36.606567+00:00\n",
              "1        0001mg  4431.82  ...        0 2021-07-21 14:34:33.067750+00:00\n",
              "2        0001mg  3037.60  ...        0 2021-07-19 23:38:33.405995+00:00\n",
              "3        0001mg  6322.63  ...        0 2021-07-19 16:33:46.896750+00:00\n",
              "4        0001mg  9981.82  ...        0 2021-07-17 02:19:05.672327+00:00\n",
              "..          ...      ...  ...      ...                              ...\n",
              "995      0e8q8g  8430.40  ...        0 2021-07-11 10:15:51.044902+00:00\n",
              "996      0efs3l  2089.27  ...        0 2021-07-24 10:57:31.845153+00:00\n",
              "997      0efs3l  8805.19  ...        0 2021-07-24 07:42:52.053850+00:00\n",
              "998      0efs3l  1590.20  ...        0 2021-07-23 11:24:19.137748+00:00\n",
              "999      0efs3l  6475.87  ...        0 2021-07-23 10:14:55.116604+00:00\n",
              "\n",
              "[1000 rows x 5 columns]"
            ]
          },
          "metadata": {
            "tags": []
          },
          "execution_count": 10
        }
      ]
    },
    {
      "cell_type": "markdown",
      "metadata": {
        "id": "3i0KOCg8wn5n"
      },
      "source": [
        "## Create a feature table using SQL"
      ]
    },
    {
      "cell_type": "markdown",
      "metadata": {
        "id": "1EGCETWpFV95"
      },
      "source": [
        "Then, run the following cell to generate features. This cell contains two functions:\n",
        "\n",
        "- `generate_user_count_features` runs a SQL query that counts the amount of transactions users have made as of a given point in time.\n",
        "\n",
        "- `backfill_features` runs this query multiple times over an interval to backfill features.\n",
        "\n"
      ]
    },
    {
      "cell_type": "code",
      "metadata": {
        "id": "ZZ_z84Y1xMia",
        "colab": {
          "base_uri": "https://localhost:8080/"
        },
        "outputId": "86ae9d52-281f-491b-fcdc-6f79750aff3b"
      },
      "source": [
        "from datetime import datetime, timedelta\n",
        "from google.cloud import bigquery\n",
        "import time\n",
        "\n",
        "def generate_user_count_features(aggregation_end_date):\n",
        "    table_id  = f\"{PROJECT_ID}.{BIGQUERY_DATASET_NAME}.user_count_transactions_7d\"\n",
        "\n",
        "    client = bigquery.Client()\n",
        "    job_config = bigquery.QueryJobConfig(destination=table_id, write_disposition='WRITE_APPEND')\n",
        "\n",
        "    aggregation_start_date = datetime.now() - timedelta(days=7)\n",
        "\n",
        "    sql = f\"\"\"\n",
        "    SELECT\n",
        "        src_account AS user_id,\n",
        "        COUNT(*) AS transaction_count_7d,\n",
        "        timestamp'{aggregation_end_date.isoformat()}' AS feature_timestamp\n",
        "    FROM\n",
        "        feast-oss.fraud_tutorial.transactions\n",
        "    WHERE\n",
        "        timestamp BETWEEN TIMESTAMP('{aggregation_start_date.isoformat()}')\n",
        "        AND TIMESTAMP('{aggregation_end_date.isoformat()}')\n",
        "    GROUP BY\n",
        "        user_id\n",
        "    \"\"\"\n",
        "\n",
        "    query_job = client.query(sql, job_config=job_config)\n",
        "    query_job.result()\n",
        "    print(f\"Generated features as of {aggregation_end_date.isoformat()}\")\n",
        "\n",
        "\n",
        "def backfill_features(earliest_aggregation_end_date, interval, num_iterations):\n",
        "    aggregation_end_date = earliest_aggregation_end_date\n",
        "    for _ in range(num_iterations):\n",
        "        generate_user_count_features(aggregation_end_date=aggregation_end_date)\n",
        "        time.sleep(1)\n",
        "        aggregation_end_date += interval\n",
        "\n",
        "if __name__ == '__main__':\n",
        "    backfill_features(\n",
        "        earliest_aggregation_end_date=datetime.now() - timedelta(days=7),\n",
        "        interval=timedelta(days=1),\n",
        "        num_iterations=8\n",
        "    )\n"
      ],
      "execution_count": null,
      "outputs": [
        {
          "output_type": "stream",
          "text": [
            "Generated features as of 2021-07-17T22:30:37.626155\n",
            "Generated features as of 2021-07-18T22:30:37.626155\n",
            "Generated features as of 2021-07-19T22:30:37.626155\n",
            "Generated features as of 2021-07-20T22:30:37.626155\n",
            "Generated features as of 2021-07-21T22:30:37.626155\n",
            "Generated features as of 2021-07-22T22:30:37.626155\n",
            "Generated features as of 2021-07-23T22:30:37.626155\n",
            "Generated features as of 2021-07-24T22:30:37.626155\n"
          ],
          "name": "stdout"
        }
      ]
    },
    {
      "cell_type": "markdown",
      "metadata": {
        "id": "JYbQTSWiGCWu"
      },
      "source": [
        "Then, we can preview our new feature:"
      ]
    },
    {
      "cell_type": "code",
      "metadata": {
        "colab": {
          "base_uri": "https://localhost:8080/",
          "height": 458
        },
        "id": "c3WpOXbUxs6d",
        "outputId": "9262960d-4e9c-45c6-f7cb-a89815c3a2da"
      },
      "source": [
        "# Note: you'll need to replace 'feast_fraud_tutorial' with your dataset name\n",
        "%%bigquery\n",
        "\n",
        "select * from feast_fraud_tutorial.user_count_transactions_7d limit 1000"
      ],
      "execution_count": null,
      "outputs": [
        {
          "output_type": "stream",
          "text": [
            "Query complete after 0.01s: 100%|██████████| 2/2 [00:00<00:00, 177.52query/s]\n",
            "Downloading: 100%|██████████| 1000/1000 [00:03<00:00, 332.34rows/s]\n"
          ],
          "name": "stderr"
        },
        {
          "output_type": "execute_result",
          "data": {
            "text/html": [
              "<div>\n",
              "<style scoped>\n",
              "    .dataframe tbody tr th:only-of-type {\n",
              "        vertical-align: middle;\n",
              "    }\n",
              "\n",
              "    .dataframe tbody tr th {\n",
              "        vertical-align: top;\n",
              "    }\n",
              "\n",
              "    .dataframe thead th {\n",
              "        text-align: right;\n",
              "    }\n",
              "</style>\n",
              "<table border=\"1\" class=\"dataframe\">\n",
              "  <thead>\n",
              "    <tr style=\"text-align: right;\">\n",
              "      <th></th>\n",
              "      <th>user_id</th>\n",
              "      <th>transaction_count_7d</th>\n",
              "      <th>feature_timestamp</th>\n",
              "    </tr>\n",
              "  </thead>\n",
              "  <tbody>\n",
              "    <tr>\n",
              "      <th>0</th>\n",
              "      <td>5w71x1</td>\n",
              "      <td>1</td>\n",
              "      <td>2021-07-24 22:30:37.626155+00:00</td>\n",
              "    </tr>\n",
              "    <tr>\n",
              "      <th>1</th>\n",
              "      <td>61enp8</td>\n",
              "      <td>1</td>\n",
              "      <td>2021-07-24 22:30:37.626155+00:00</td>\n",
              "    </tr>\n",
              "    <tr>\n",
              "      <th>2</th>\n",
              "      <td>798vge</td>\n",
              "      <td>1</td>\n",
              "      <td>2021-07-24 22:30:37.626155+00:00</td>\n",
              "    </tr>\n",
              "    <tr>\n",
              "      <th>3</th>\n",
              "      <td>7wm6zr</td>\n",
              "      <td>1</td>\n",
              "      <td>2021-07-24 22:30:37.626155+00:00</td>\n",
              "    </tr>\n",
              "    <tr>\n",
              "      <th>4</th>\n",
              "      <td>a9vulj</td>\n",
              "      <td>1</td>\n",
              "      <td>2021-07-24 22:30:37.626155+00:00</td>\n",
              "    </tr>\n",
              "    <tr>\n",
              "      <th>...</th>\n",
              "      <td>...</td>\n",
              "      <td>...</td>\n",
              "      <td>...</td>\n",
              "    </tr>\n",
              "    <tr>\n",
              "      <th>995</th>\n",
              "      <td>cmkhw3</td>\n",
              "      <td>2</td>\n",
              "      <td>2021-07-24 22:30:37.626155+00:00</td>\n",
              "    </tr>\n",
              "    <tr>\n",
              "      <th>996</th>\n",
              "      <td>cuq26f</td>\n",
              "      <td>2</td>\n",
              "      <td>2021-07-24 22:30:37.626155+00:00</td>\n",
              "    </tr>\n",
              "    <tr>\n",
              "      <th>997</th>\n",
              "      <td>e5k50u</td>\n",
              "      <td>2</td>\n",
              "      <td>2021-07-24 22:30:37.626155+00:00</td>\n",
              "    </tr>\n",
              "    <tr>\n",
              "      <th>998</th>\n",
              "      <td>go8djl</td>\n",
              "      <td>2</td>\n",
              "      <td>2021-07-24 22:30:37.626155+00:00</td>\n",
              "    </tr>\n",
              "    <tr>\n",
              "      <th>999</th>\n",
              "      <td>ipa2qj</td>\n",
              "      <td>2</td>\n",
              "      <td>2021-07-24 22:30:37.626155+00:00</td>\n",
              "    </tr>\n",
              "  </tbody>\n",
              "</table>\n",
              "<p>1000 rows × 3 columns</p>\n",
              "</div>"
            ],
            "text/plain": [
              "    user_id  transaction_count_7d                feature_timestamp\n",
              "0    5w71x1                     1 2021-07-24 22:30:37.626155+00:00\n",
              "1    61enp8                     1 2021-07-24 22:30:37.626155+00:00\n",
              "2    798vge                     1 2021-07-24 22:30:37.626155+00:00\n",
              "3    7wm6zr                     1 2021-07-24 22:30:37.626155+00:00\n",
              "4    a9vulj                     1 2021-07-24 22:30:37.626155+00:00\n",
              "..      ...                   ...                              ...\n",
              "995  cmkhw3                     2 2021-07-24 22:30:37.626155+00:00\n",
              "996  cuq26f                     2 2021-07-24 22:30:37.626155+00:00\n",
              "997  e5k50u                     2 2021-07-24 22:30:37.626155+00:00\n",
              "998  go8djl                     2 2021-07-24 22:30:37.626155+00:00\n",
              "999  ipa2qj                     2 2021-07-24 22:30:37.626155+00:00\n",
              "\n",
              "[1000 rows x 3 columns]"
            ]
          },
          "metadata": {
            "tags": []
          },
          "execution_count": 12
        }
      ]
    },
    {
      "cell_type": "markdown",
      "metadata": {
        "id": "RXLgVUuNGPTj"
      },
      "source": [
        "## Create a new FeatureView\n",
        "\n",
        "Create a new file, `fraud_features.py`, which contains our new feature definition."
      ]
    },
    {
      "cell_type": "code",
      "metadata": {
        "id": "F6B7Wo67yDV7"
      },
      "source": [
        "fraud_features = \\\n",
        "f\"\"\"\n",
        "from datetime import timedelta\n",
        "from feast import BigQuerySource, FeatureView, Entity, ValueType\n",
        "\n",
        "# Add an entity for users\n",
        "user_entity = Entity(\n",
        "    name=\"user_id\",\n",
        "    description=\"A user that has executed a transaction or received a transaction\",\n",
        "    value_type=ValueType.STRING\n",
        ")\n",
        "\n",
        "# Add a FeatureView based on our new table\n",
        "driver_stats_fv = FeatureView(\n",
        "    name=\"user_transaction_count_7d\",\n",
        "    entities=[\"user_id\"],\n",
        "    ttl=timedelta(weeks=1),\n",
        "    batch_source=BigQuerySource(\n",
        "        table_ref=f\"{PROJECT_ID}.{BIGQUERY_DATASET_NAME}.user_count_transactions_7d\",\n",
        "        event_timestamp_column=\"feature_timestamp\"))\n",
        "\n",
        "# Add two FeatureViews based on existing tables in BigQuery\n",
        "user_account_fv = FeatureView(\n",
        "    name=\"user_account_features\",\n",
        "    entities=[\"user_id\"],\n",
        "    ttl=timedelta(weeks=52),\n",
        "    batch_source=BigQuerySource(\n",
        "        table_ref=f\"feast-oss.fraud_tutorial.user_account_features\",\n",
        "        event_timestamp_column=\"feature_timestamp\"))\n",
        "\n",
        "user_has_fraudulent_transactions_fv = FeatureView(\n",
        "    name=\"user_has_fraudulent_transactions\",\n",
        "    entities=[\"user_id\"],\n",
        "    ttl=timedelta(weeks=52),\n",
        "    batch_source=BigQuerySource(\n",
        "        table_ref=f\"feast-oss.fraud_tutorial.user_has_fraudulent_transactions\",\n",
        "        event_timestamp_column=\"feature_timestamp\"))\n",
        "\"\"\"\n",
        "\n",
        "with open('fraud_features.py', \"w\") as fraud_features_file:\n",
        "    fraud_features_file.write(fraud_features)"
      ],
      "execution_count": null,
      "outputs": []
    },
    {
      "cell_type": "code",
      "metadata": {
        "id": "6rSndNQ30ASP",
        "colab": {
          "base_uri": "https://localhost:8080/"
        },
        "outputId": "e2943d91-1bd6-4653-c1bb-692d33726c35"
      },
      "source": [
        "# Remove example features\n",
        "!rm driver_repo.py\n",
        "# Apply our changes\n",
        "!feast apply"
      ],
      "execution_count": null,
      "outputs": [
        {
          "output_type": "stream",
          "text": [
            "Registered entity \u001b[1m\u001b[32muser_id\u001b[0m\n",
            "Deleted feature view \u001b[1m\u001b[32mdriver_hourly_stats\u001b[0m from registry\n",
            "Registered feature view \u001b[1m\u001b[32muser_transaction_count_7d\u001b[0m\n",
            "Registered feature view \u001b[1m\u001b[32muser_account_features\u001b[0m\n",
            "Registered feature view \u001b[1m\u001b[32muser_has_fraudulent_transactions\u001b[0m\n",
            "Deploying infrastructure for \u001b[1m\u001b[32muser_transaction_count_7d\u001b[0m\n",
            "Deploying infrastructure for \u001b[1m\u001b[32muser_account_features\u001b[0m\n",
            "Deploying infrastructure for \u001b[1m\u001b[32muser_has_fraudulent_transactions\u001b[0m\n",
            "Removing infrastructure for \u001b[1m\u001b[32mdriver_hourly_stats\u001b[0m\n"
          ],
          "name": "stdout"
        }
      ]
    },
    {
      "cell_type": "markdown",
      "metadata": {
        "id": "1lLXrsI_9qHY"
      },
      "source": []
    },
    {
      "cell_type": "markdown",
      "metadata": {
        "id": "UbPY2t4wGh9j"
      },
      "source": [
        "# Training and deploying a model\n",
        "\n",
        "Next, we'll train a model using our features:\n",
        "\n",
        "![Feast landing page, blog post - Tutorial - Train model (1).png](data:image/png;base64,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)"
      ]
    },
    {
      "cell_type": "markdown",
      "metadata": {
        "id": "6cJFAJiuGxM3"
      },
      "source": [
        "## Fetching training data\n",
        "\n",
        "Now that our feature is registered in Feast, we can use Feast to generate a training dataset. To do this, we need an entity dataframe, alongside the list of features we want:"
      ]
    },
    {
      "cell_type": "code",
      "metadata": {
        "id": "BqgiEP2Oz42q",
        "colab": {
          "base_uri": "https://localhost:8080/",
          "height": 330
        },
        "outputId": "40552317-644b-4ee6-d735-0ee5e48e79dd"
      },
      "source": [
        "from datetime import datetime, timedelta\n",
        "from feast import FeatureStore\n",
        "\n",
        "# Initialize a FeatureStore with our current repository's configurations\n",
        "store = FeatureStore(repo_path=\".\")\n",
        "\n",
        "# Get training data\n",
        "now = datetime.now()\n",
        "two_days_ago = datetime.now() - timedelta(days=2)\n",
        "\n",
        "training_data = store.get_historical_features(\n",
        "    entity_df=f\"\"\"\n",
        "    select\n",
        "        src_account as user_id,\n",
        "        timestamp,\n",
        "        is_fraud\n",
        "    from\n",
        "        feast-oss.fraud_tutorial.transactions\n",
        "    where\n",
        "        timestamp between timestamp('{two_days_ago.isoformat()}')\n",
        "        and timestamp('{now.isoformat()}')\"\"\",\n",
        "    features=[\n",
        "        \"user_transaction_count_7d:transaction_count_7d\",\n",
        "        \"user_account_features:credit_score\",\n",
        "        \"user_account_features:account_age_days\",\n",
        "        \"user_account_features:user_has_2fa_installed\",\n",
        "        \"user_has_fraudulent_transactions:user_has_fraudulent_transactions_7d\"\n",
        "    ],\n",
        "    full_feature_names=True\n",
        ").to_df()\n",
        "\n",
        "training_data.head()\n"
      ],
      "execution_count": null,
      "outputs": [
        {
          "output_type": "stream",
          "text": [
            "Using timestamp as the event timestamp. To specify a column explicitly, please name it event_timestamp.\n"
          ],
          "name": "stdout"
        },
        {
          "output_type": "execute_result",
          "data": {
            "text/html": [
              "<div>\n",
              "<style scoped>\n",
              "    .dataframe tbody tr th:only-of-type {\n",
              "        vertical-align: middle;\n",
              "    }\n",
              "\n",
              "    .dataframe tbody tr th {\n",
              "        vertical-align: top;\n",
              "    }\n",
              "\n",
              "    .dataframe thead th {\n",
              "        text-align: right;\n",
              "    }\n",
              "</style>\n",
              "<table border=\"1\" class=\"dataframe\">\n",
              "  <thead>\n",
              "    <tr style=\"text-align: right;\">\n",
              "      <th></th>\n",
              "      <th>user_id</th>\n",
              "      <th>timestamp</th>\n",
              "      <th>is_fraud</th>\n",
              "      <th>user_transaction_count_7d__transaction_count_7d</th>\n",
              "      <th>user_account_features__credit_score</th>\n",
              "      <th>user_account_features__account_age_days</th>\n",
              "      <th>user_account_features__user_has_2fa_installed</th>\n",
              "      <th>user_has_fraudulent_transactions__user_has_fraudulent_transactions_7d</th>\n",
              "    </tr>\n",
              "  </thead>\n",
              "  <tbody>\n",
              "    <tr>\n",
              "      <th>0</th>\n",
              "      <td>0001mg</td>\n",
              "      <td>2021-07-24 15:39:36.606567+00:00</td>\n",
              "      <td>0</td>\n",
              "      <td>3.0</td>\n",
              "      <td>704</td>\n",
              "      <td>499</td>\n",
              "      <td>0</td>\n",
              "      <td>0.0</td>\n",
              "    </tr>\n",
              "    <tr>\n",
              "      <th>1</th>\n",
              "      <td>000q95</td>\n",
              "      <td>2021-07-24 12:44:24.995791+00:00</td>\n",
              "      <td>0</td>\n",
              "      <td>4.0</td>\n",
              "      <td>737</td>\n",
              "      <td>236</td>\n",
              "      <td>1</td>\n",
              "      <td>1.0</td>\n",
              "    </tr>\n",
              "    <tr>\n",
              "      <th>2</th>\n",
              "      <td>000q95</td>\n",
              "      <td>2021-07-22 23:23:04.802760+00:00</td>\n",
              "      <td>0</td>\n",
              "      <td>2.0</td>\n",
              "      <td>737</td>\n",
              "      <td>236</td>\n",
              "      <td>1</td>\n",
              "      <td>1.0</td>\n",
              "    </tr>\n",
              "    <tr>\n",
              "      <th>3</th>\n",
              "      <td>000q95</td>\n",
              "      <td>2021-07-24 20:08:02.911410+00:00</td>\n",
              "      <td>0</td>\n",
              "      <td>4.0</td>\n",
              "      <td>737</td>\n",
              "      <td>236</td>\n",
              "      <td>1</td>\n",
              "      <td>1.0</td>\n",
              "    </tr>\n",
              "    <tr>\n",
              "      <th>4</th>\n",
              "      <td>000q95</td>\n",
              "      <td>2021-07-22 23:26:32.789396+00:00</td>\n",
              "      <td>0</td>\n",
              "      <td>2.0</td>\n",
              "      <td>737</td>\n",
              "      <td>236</td>\n",
              "      <td>1</td>\n",
              "      <td>1.0</td>\n",
              "    </tr>\n",
              "  </tbody>\n",
              "</table>\n",
              "</div>"
            ],
            "text/plain": [
              "  user_id  ... user_has_fraudulent_transactions__user_has_fraudulent_transactions_7d\n",
              "0  0001mg  ...                                                0.0                   \n",
              "1  000q95  ...                                                1.0                   \n",
              "2  000q95  ...                                                1.0                   \n",
              "3  000q95  ...                                                1.0                   \n",
              "4  000q95  ...                                                1.0                   \n",
              "\n",
              "[5 rows x 8 columns]"
            ]
          },
          "metadata": {
            "tags": []
          },
          "execution_count": 15
        }
      ]
    },
    {
      "cell_type": "markdown",
      "metadata": {
        "id": "3izkr_3sG1hX"
      },
      "source": [
        "## Training a model\n",
        "\n",
        "Now, we can use our features to train a model:"
      ]
    },
    {
      "cell_type": "code",
      "metadata": {
        "id": "YMgFuFHR4pIu",
        "colab": {
          "base_uri": "https://localhost:8080/"
        },
        "outputId": "7f248543-3016-482c-9d8e-b0819cf3609d"
      },
      "source": [
        "from sklearn.linear_model import LinearRegression\n",
        "\n",
        "# Drop stray nulls\n",
        "training_data.dropna(inplace=True)\n",
        "\n",
        "# Select training matrices\n",
        "X = training_data[[\n",
        "    \"user_transaction_count_7d__transaction_count_7d\",\n",
        "    \"user_account_features__credit_score\",\n",
        "    \"user_account_features__account_age_days\",\n",
        "    \"user_account_features__user_has_2fa_installed\",\n",
        "    \"user_has_fraudulent_transactions__user_has_fraudulent_transactions_7d\"\n",
        "]]\n",
        "y = training_data[\"is_fraud\"]\n",
        "\n",
        "# Train a simple SVC model\n",
        "model = LinearRegression()\n",
        "model.fit(X, y)"
      ],
      "execution_count": null,
      "outputs": [
        {
          "output_type": "stream",
          "text": [
            "07/24/2021 10:36:36 PM INFO:NumExpr defaulting to 2 threads.\n"
          ],
          "name": "stderr"
        },
        {
          "output_type": "execute_result",
          "data": {
            "text/plain": [
              "LinearRegression(copy_X=True, fit_intercept=True, n_jobs=None, normalize=False)"
            ]
          },
          "metadata": {
            "tags": []
          },
          "execution_count": 16
        }
      ]
    },
    {
      "cell_type": "code",
      "metadata": {
        "colab": {
          "base_uri": "https://localhost:8080/"
        },
        "id": "PobCpVWu4pdz",
        "outputId": "60a39792-d332-4edc-c59c-e4e20a87ea5e"
      },
      "source": [
        "# Get first two rows of training data\n",
        "samples = X.iloc[:2]\n",
        "\n",
        "# Make a test prediction\n",
        "model.predict(samples)"
      ],
      "execution_count": null,
      "outputs": [
        {
          "output_type": "execute_result",
          "data": {
            "text/plain": [
              "array([0.05079604, 0.05121373])"
            ]
          },
          "metadata": {
            "tags": []
          },
          "execution_count": 17
        }
      ]
    },
    {
      "cell_type": "markdown",
      "metadata": {
        "id": "66KabUSEHPm1"
      },
      "source": [
        "## Saving and deploying the model\n",
        "\n",
        "Next, we'll deploy the model to GCP AI Platform for inference. First, save the model."
      ]
    },
    {
      "cell_type": "code",
      "metadata": {
        "colab": {
          "base_uri": "https://localhost:8080/"
        },
        "id": "J6_Xkqa445I0",
        "outputId": "1a56891e-9417-4fe0-c365-1b015c93f4f2"
      },
      "source": [
        "import joblib\n",
        "\n",
        "joblib.dump(model, \"model.joblib\")"
      ],
      "execution_count": null,
      "outputs": [
        {
          "output_type": "execute_result",
          "data": {
            "text/plain": [
              "['model.joblib']"
            ]
          },
          "metadata": {
            "tags": []
          },
          "execution_count": 30
        }
      ]
    },
    {
      "cell_type": "markdown",
      "metadata": {
        "id": "yF1Crsd7HVcE"
      },
      "source": [
        "Then, upload the model to your bucket."
      ]
    },
    {
      "cell_type": "code",
      "metadata": {
        "colab": {
          "base_uri": "https://localhost:8080/"
        },
        "id": "Pv9Ob_8s47Em",
        "outputId": "6794d620-51ae-42a3-8ddc-8ad91283674a"
      },
      "source": [
        "!gsutil cp ./model.joblib gs://$BUCKET_NAME/model_dir/model.joblib"
      ],
      "execution_count": null,
      "outputs": [
        {
          "output_type": "stream",
          "text": [
            "Copying file://./model.joblib [Content-Type=application/octet-stream]...\n",
            "/ [1 files][  643.0 B/  643.0 B]                                                \n",
            "Operation completed over 1 objects/643.0 B.                                      \n"
          ],
          "name": "stdout"
        }
      ]
    },
    {
      "cell_type": "markdown",
      "metadata": {
        "id": "5YywBrHvHbGY"
      },
      "source": [
        "Then, create a model and model version. Depending on the chosen region, this can take a couple of minutes."
      ]
    },
    {
      "cell_type": "code",
      "metadata": {
        "colab": {
          "base_uri": "https://localhost:8080/"
        },
        "id": "OKRMFAVB5Cy0",
        "outputId": "02965e3b-f335-4f0b-a4c4-506604785dea"
      },
      "source": [
        "!gcloud ai-platform models create $AI_PLATFORM_MODEL_NAME --region global\n",
        "\n",
        "!gcloud ai-platform versions create version_1 \\\n",
        "--model $AI_PLATFORM_MODEL_NAME \\\n",
        "--runtime-version 2.2  \\\n",
        "--python-version 3.7 \\\n",
        "--framework scikit-learn \\\n",
        "--origin gs://$BUCKET_NAME/model_dir \\\n",
        "--region global"
      ],
      "execution_count": null,
      "outputs": [
        {
          "output_type": "stream",
          "text": [
            "\u001b[1;33mWARNING:\u001b[0m To specify a region where the model will deployed on the global endpoint, please use `--regions` and do not specify `--region`. Using [us-central1] by default on https://ml.googleapis.com. Please note that your model will be inaccessible from https://us-central1-ml.googelapis.com\n",
            "\n",
            "Learn more about regional endpoints and see a list of available regions: https://cloud.google.com/ai-platform/prediction/docs/regional-endpoints\n",
            "Using endpoint [https://ml.googleapis.com/]\n",
            "Created ai platform model [projects/kf-feast/models/feast_fraud_jsd_model].\n",
            "Using endpoint [https://ml.googleapis.com/]\n"
          ],
          "name": "stdout"
        }
      ]
    },
    {
      "cell_type": "markdown",
      "metadata": {
        "id": "N32zBtP9HeDI"
      },
      "source": [
        "To test our endpoint, we can some sample values for prediction:"
      ]
    },
    {
      "cell_type": "code",
      "metadata": {
        "colab": {
          "base_uri": "https://localhost:8080/"
        },
        "id": "tMnFUzfp7nIo",
        "outputId": "54327af1-9daf-4ac0-d721-15b4a2336c8b"
      },
      "source": [
        "import googleapiclient.discovery\n",
        "from IPython.display import clear_output\n",
        "\n",
        "\n",
        "instances = [\n",
        "  [6.7, 3.1, 4.7, 1.5, 0],\n",
        "  [4.6, 3.1, 1.5, 0.2, 0],\n",
        "]\n",
        "\n",
        "service = googleapiclient.discovery.build('ml', 'v1')\n",
        "name = f'projects/{PROJECT_ID}/models/{AI_PLATFORM_MODEL_NAME}/'\n",
        "\n",
        "response = service.projects().predict(\n",
        "    name=name,\n",
        "    body={'instances': instances}\n",
        ").execute()\n",
        "\n",
        "if 'error' in response:\n",
        "    raise RuntimeError(response['error'])\n",
        "else:\n",
        "  clear_output()\n",
        "  print(\"Predictions: \", response['predictions'])"
      ],
      "execution_count": null,
      "outputs": [
        {
          "output_type": "stream",
          "text": [
            "Predictions:  [0.03888101598921528, 0.043993991066241606]\n"
          ],
          "name": "stdout"
        }
      ]
    },
    {
      "cell_type": "markdown",
      "metadata": {
        "id": "HWQLT0gTHi1h"
      },
      "source": [
        "# Materializing features\n",
        "\n",
        "To enable real time feature inference, Feast loads your features into a key-value store so they're available at low latency. On GCP, this key-value store is Datastore:\n",
        "\n",
        "![Feast landing page, blog post - Tutorial - Materialize.png](data:image/png;base64,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)"
      ]
    },
    {
      "cell_type": "code",
      "metadata": {
        "id": "REBqJPcZ99Lj"
      },
      "source": [
        "!feast materialize-incremental $(date -u +\"%Y-%m-%dT%H:%M:%S\")"
      ],
      "execution_count": null,
      "outputs": []
    },
    {
      "cell_type": "markdown",
      "metadata": {
        "id": "FNVxJpw1HohD"
      },
      "source": [
        "# Low latency inference\n",
        "\n",
        "To make a prediction in real-time, we need to do the following:\n",
        "\n",
        "1. Fetch our features using the Feast client\n",
        "2. Pass these features to our AI Platform endpoint\n",
        "3. Return these predictions to the user\n",
        "\n",
        "![Feast landing page, blog post - [Archive].png](data:image/png;base64,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)\n"
      ]
    },
    {
      "cell_type": "code",
      "metadata": {
        "colab": {
          "base_uri": "https://localhost:8080/"
        },
        "id": "JyME-zoy-4d_",
        "outputId": "b2e9ba19-4d0b-4cac-9c69-90a06c28fe25"
      },
      "source": [
        "def predict(entity_rows):\n",
        "    feature_vector = store.get_online_features(\n",
        "        features=[\n",
        "        \"user_transaction_count_7d:transaction_count_7d\",\n",
        "        \"user_account_features:credit_score\",\n",
        "        \"user_account_features:account_age_days\",\n",
        "        \"user_account_features:user_has_2fa_installed\",\n",
        "        \"user_has_fraudulent_transactions:user_has_fraudulent_transactions_7d\"\n",
        "    ],\n",
        "        entity_rows=entity_rows\n",
        "    ).to_dict()\n",
        "\n",
        "    # Delete entity keys\n",
        "    del feature_vector[\"user_id\"]\n",
        "\n",
        "    # Flatten response from Feast\n",
        "    instances = [\n",
        "        [feature_values[i] for feature_values in feature_vector.values()]\n",
        "        for i in range(len(entity_rows))\n",
        "    ]\n",
        "\n",
        "    service = googleapiclient.discovery.build('ml', 'v1')\n",
        "    name = f'projects/{PROJECT_ID}/models/{AI_PLATFORM_MODEL_NAME}'\n",
        "\n",
        "    response = service.projects().predict(\n",
        "        name=name,\n",
        "        body={'instances': instances}\n",
        "    ).execute()\n",
        "\n",
        "    clear_output()\n",
        "    return response\n",
        "\n",
        "predict([{\"user_id\": \"v5zlw0\"}])"
      ],
      "execution_count": null,
      "outputs": [
        {
          "output_type": "execute_result",
          "data": {
            "text/plain": [
              "{'predictions': [2.4773603480992787]}"
            ]
          },
          "metadata": {
            "tags": []
          },
          "execution_count": 34
        }
      ]
    },
    {
      "cell_type": "markdown",
      "metadata": {
        "id": "iMD3E97VH5iJ"
      },
      "source": [
        "This code is ready to be used in a production Python application. If your application can't access Python, you have two options:\n",
        "\n",
        "1. You can move the entire `predict()` function into a Cloud Function.\n",
        "2. You can move the `store.get_online_features` call into the AI Platform endpoint using a Custom Prediction Routine."
      ]
    },
    {
      "cell_type": "markdown",
      "metadata": {
        "id": "d_9yA6RBId0_"
      },
      "source": [
        "# Scheduling Updates\n",
        "\n",
        "We now have a model that's running in production, but several steps of the workflow were ran manually. Specifically:\n",
        "\n",
        "1. We ran a SQL query to update our feature values\n",
        "2. We materialized features to the online store\n",
        "\n",
        "For our setup to be prodution ready, we need to schedule a workflow for these actions to occur on a regular basis. Let's do that using a Cloud Function and a Cloud Scheduler job:\n",
        "\n",
        "![Feast landing page, blog post - Tutorial - Scheduling Updates.png](data:image/png;base64,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)"
      ]
    },
    {
      "cell_type": "markdown",
      "metadata": {
        "id": "04_KQf-fI7Tr"
      },
      "source": [
        "## Create a cloud function"
      ]
    },
    {
      "cell_type": "code",
      "metadata": {
        "id": "FHJr-W4Q_IxK"
      },
      "source": [
        "!mkdir cloud_function"
      ],
      "execution_count": null,
      "outputs": []
    },
    {
      "cell_type": "code",
      "metadata": {
        "id": "HFp1rCB5vli5"
      },
      "source": [
        "configs = f\"\"\"\n",
        "project_id = '{PROJECT_ID}'\n",
        "bigquery_dataset_name = '{BIGQUERY_DATASET_NAME}'\n",
        "bucket_name = '{BUCKET_NAME}'\n",
        "\"\"\"\n",
        "\n",
        "with open('cloud_function/configs.py', \"w\") as configs_file:\n",
        "    configs_file.write(configs)"
      ],
      "execution_count": null,
      "outputs": []
    },
    {
      "cell_type": "code",
      "metadata": {
        "colab": {
          "base_uri": "https://localhost:8080/"
        },
        "id": "1oVtn7Mi_PB9",
        "outputId": "d35389a8-ac62-454e-9d38-77b3d4aa5765"
      },
      "source": [
        "%%writefile cloud_function/main.py\n",
        "from datetime import datetime, timedelta\n",
        "from google.cloud import bigquery\n",
        "from feast import FeatureStore, RepoConfig\n",
        "from configs import project_id, bigquery_dataset_name, bucket_name\n",
        "\n",
        "\n",
        "def generate_user_count_features(aggregation_end_date):\n",
        "    table_id  = f\"{project_id}.{bigquery_dataset_name}.user_count_transactions_7d\"\n",
        "\n",
        "    client = bigquery.Client()\n",
        "    job_config = bigquery.QueryJobConfig(destination=table_id, write_disposition='WRITE_APPEND')\n",
        "\n",
        "    aggregation_start_date = datetime.now() - timedelta(days=7)\n",
        "\n",
        "    sql = f\"\"\"\n",
        "    SELECT\n",
        "        src_account AS user_id,\n",
        "        COUNT(*) AS transaction_count_7d,\n",
        "        timestamp'{aggregation_end_date.isoformat()}' AS feature_timestamp\n",
        "    FROM\n",
        "        feast-oss.fraud_tutorial.transactions\n",
        "    WHERE\n",
        "        timestamp BETWEEN TIMESTAMP('{aggregation_start_date.isoformat()}')\n",
        "        AND TIMESTAMP('{aggregation_end_date.isoformat()}')\n",
        "    GROUP BY\n",
        "        user_id\n",
        "    \"\"\"\n",
        "\n",
        "    query_job = client.query(sql, job_config=job_config)\n",
        "    query_job.result()\n",
        "    print(\"Generated features as of: \", aggregation_end_date.isoformat())\n",
        "\n",
        "\n",
        "def materialize_features(end_date):\n",
        "    store = FeatureStore(\n",
        "        config=RepoConfig(\n",
        "            project=\"fraud_tutorial\",\n",
        "            registry=f\"gs://{bucket_name}/registry.db\",\n",
        "            provider=\"gcp\"\n",
        "        )\n",
        "    )\n",
        "    store.materialize_incremental(end_date=datetime.now())\n",
        "\n",
        "def main(data, context):\n",
        "    generate_user_count_features(aggregation_end_date=datetime.now())\n",
        "    materialize_features(end_date=datetime.now())"
      ],
      "execution_count": null,
      "outputs": [
        {
          "output_type": "stream",
          "text": [
            "Writing cloud_function/main.py\n"
          ],
          "name": "stdout"
        }
      ]
    },
    {
      "cell_type": "code",
      "metadata": {
        "colab": {
          "base_uri": "https://localhost:8080/"
        },
        "id": "ErWb9JIz_VYc",
        "outputId": "d9ab923f-da24-4279-8017-0a9a62a5a5c3"
      },
      "source": [
        "%%writefile cloud_function/requirements.txt\n",
        "google-cloud-bigquery\n",
        "feast[gcp]"
      ],
      "execution_count": null,
      "outputs": [
        {
          "output_type": "stream",
          "text": [
            "Writing cloud_function/requirements.txt\n"
          ],
          "name": "stdout"
        }
      ]
    },
    {
      "cell_type": "code",
      "metadata": {
        "colab": {
          "base_uri": "https://localhost:8080/"
        },
        "id": "uSCEanT0ADv9",
        "outputId": "66366f6b-e08a-4de1-f9df-bdac1980fbf8"
      },
      "source": [
        "!cd cloud_function && gcloud functions deploy feast-update-features \\\n",
        "--entry-point main \\\n",
        "--runtime python37 \\\n",
        "--trigger-resource feast-schedule \\\n",
        "--trigger-event google.pubsub.topic.publish \\\n",
        "--timeout 540s"
      ],
      "execution_count": null,
      "outputs": [
        {
          "output_type": "stream",
          "text": [
            "\n",
            "For Cloud Build Logs, visit: https://console.cloud.google.com/cloud-build/builds;region=us-central1/88d22767-90f6-4c14-a2fb-1f4541f7aaed?project=883187091528\n",
            "availableMemoryMb: 256\n",
            "buildId: 3af6d12a-aa48-4464-9992-f721a05676c9\n",
            "entryPoint: main\n",
            "eventTrigger:\n",
            "  eventType: google.pubsub.topic.publish\n",
            "  failurePolicy: {}\n",
            "  resource: projects/kf-feast/topics/feast-schedule\n",
            "  service: pubsub.googleapis.com\n",
            "ingressSettings: ALLOW_ALL\n",
            "labels:\n",
            "  deployment-tool: cli-gcloud\n",
            "name: projects/kf-feast/locations/us-central1/functions/feast-update-features\n",
            "runtime: python37\n",
            "serviceAccountEmail: kf-feast@appspot.gserviceaccount.com\n",
            "sourceUploadUrl: https://storage.googleapis.com/gcf-upload-us-central1-b3c947c0-762d-42fb-b26f-96cd83cc3dfb/08c72bc1-fbb7-44ee-adb6-ef185c3c2f8c.zip?GoogleAccessId=service-883187091528@gcf-admin-robot.iam.gserviceaccount.com&Expires=1627168941&Signature=fw3gdJAs9sn50tZc78eo63sqkHWcr1SogH7LrUdfFV05PWcqzffN0MCjkCCIqjgeTTOxze4KiZRzhqAdY0mPYZrrfJWk%2Fh6SEuZJ66gN0fKQp50j3wMJstuQ68czRfLyAGfkejYbPwc8%2FSfuq7WaGdK6g7Gclh5xjZGy6Tp63gv%2B1C4O8yXgTVg2xM%2FF0WASc9nzhQm%2FOeeXLslgkFBFfyAIs6%2FGy5lOKOQMSW%2Faz740EWEzKgE5GIpTl8XBGma%2B48LyuUsjWeGTydEYAC%2BA9DWXx7u%2F7gOWKW0x7ar3OmV%2BrZc1eNRvi%2BRiGlDsjXhiQlRARIhpCrop5p6rJ2XbZA%3D%3D\n",
            "status: ACTIVE\n",
            "timeout: 540s\n",
            "updateTime: '2021-07-24T22:55:32.424Z'\n",
            "versionId: '3'\n"
          ],
          "name": "stdout"
        }
      ]
    },
    {
      "cell_type": "markdown",
      "metadata": {
        "id": "yCZfcn9LI_jd"
      },
      "source": [
        "## Schedule the cloud function\n"
      ]
    },
    {
      "cell_type": "code",
      "metadata": {
        "id": "DeTV5QEUvMaM"
      },
      "source": [
        "!gcloud scheduler jobs create pubsub feast-daily-job \\\n",
        "--schedule \"0 22 * * *\" \\\n",
        "--topic feast-schedule \\\n",
        "--message-body \"This job schedules feature materialization once a day.\""
      ],
      "execution_count": null,
      "outputs": []
    },
    {
      "cell_type": "markdown",
      "metadata": {
        "id": "bHAb2eRyJFKO"
      },
      "source": [
        "## [Optional] Configure BigQuery permissions\n",
        "\n",
        "You might also need to give your cloud function permission to access your BigQuery dataset. To do this:\n",
        "\n",
        "1. Open your dataset in BigQuery.\n",
        "2. Hover over the plus icon, and click \"share dataset.\"\n",
        "3. In the pop-up, enter your project's service account email. This should be `[PROJECT_ID]@appspot.gserviceaccount.com`.\n",
        "4. Select permission \"Can Edit\" and confirm."
      ]
    },
    {
      "cell_type": "markdown",
      "metadata": {
        "id": "3Q4YGlirJPAo"
      },
      "source": [
        "## Run the workflow\n",
        "\n",
        "If you want to test the workflow interactively:\n",
        "\n",
        "1. Open the Cloud Scheduler page in the console.\n",
        "2. Click the ‘Run Now’ button in the feast-daily-job row.\n",
        "3. Open the Cloud Function page in the console.\n",
        "4. Open your Cloud Function (feast-update-features.)\n",
        "5. Open the Logs tab to see the latest run of your cloud function."
      ]
    },
    {
      "cell_type": "markdown",
      "metadata": {
        "id": "wu57c6FkJTCc"
      },
      "source": [
        "# Next steps\n",
        "\n",
        "We have just built an end-to-end system using Feast and GCP. This system generates realtime predictions using up to date feature values from our model.\n",
        "\n",
        "Next steps that you can take after completing this tutorial include:\n",
        "\n",
        "- Check your repo into git to enable collaboration with your team.\n",
        "- Use this tutorial to bootstrap a model for your use case by editing features / model.\n",
        "- Incorporate the code in this tutorial into your company's batch pipelines by creating stages that perform feature creation and materialization."
      ]
    },
    {
      "cell_type": "markdown",
      "metadata": {
        "id": "m4Pu2m4KUrbp"
      },
      "source": [
        "# Cleanup\n",
        "\n",
        "If you want to clean up the resources created during this tutorial, run the following cells:\n"
      ]
    },
    {
      "cell_type": "code",
      "metadata": {
        "id": "9RK_Kxj2VFQu",
        "colab": {
          "base_uri": "https://localhost:8080/"
        },
        "outputId": "c6947143-d41b-4ce8-9f14-36c530234eb4"
      },
      "source": [
        "!bq rm -t -f feast_fraud_tutorial.user_count_transactions_7d\n",
        "!bq rm -r -f -d feast_fraud_tutorial\n",
        "!gcloud functions delete feast-update-features\n",
        "!gcloud scheduler jobs delete feast-daily-job --project $PROJECT_ID"
      ],
      "execution_count": null,
      "outputs": [
        {
          "output_type": "stream",
          "text": [
            "Resource [projects/kf-feast/locations/us-central1/functions/feast-upda\n",
            "te-features] will be deleted.\n",
            "\n",
            "Do you want to continue (Y/n)?  Y\n",
            "\n",
            "Deleted [projects/kf-feast/locations/us-central1/functions/feast-update-features].\n",
            "You are about to delete job [feast-daily-job]\n",
            "\n",
            "Do you want to continue (Y/n)?  Y\n",
            "\n",
            "Deleted job [feast-daily-job].\n"
          ],
          "name": "stdout"
        }
      ]
    },
    {
      "cell_type": "code",
      "metadata": {
        "id": "5EGuKSupu5jN"
      },
      "source": [],
      "execution_count": null,
      "outputs": []
    }
  ]
}